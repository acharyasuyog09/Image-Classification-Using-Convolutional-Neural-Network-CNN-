{
 "cells": [
  {
   "cell_type": "markdown",
   "id": "d8081d2f",
   "metadata": {
    "papermill": {
     "duration": 0.009094,
     "end_time": "2023-02-02T06:20:51.732604",
     "exception": false,
     "start_time": "2023-02-02T06:20:51.723510",
     "status": "completed"
    },
    "tags": []
   },
   "source": [
    "# Image Classification\n",
    "\n",
    "The dataset consists of `60000` `32x32` color images in `10` classes, with `6000` images per class. There are `50000` training images and `10000` test images.\n",
    "\n",
    "# Problem Definition:\n",
    "\n",
    "In this notebook we are going to build a CNN model that can classify images of various objects. We have `10` class of images:\n",
    "1. Airplane\n",
    "2. Automobile\n",
    "3. Bird\n",
    "4. Cat\n",
    "5. Deer\n",
    "6. Dog\n",
    "7. Frog\n",
    "8. Horse\n",
    "9. Ship\n",
    "10. Truck\n",
    "\n"
   ]
  },
  {
   "cell_type": "code",
   "execution_count": 1,
   "id": "5fafcb8e",
   "metadata": {
    "execution": {
     "iopub.execute_input": "2023-02-02T06:20:51.746326Z",
     "iopub.status.busy": "2023-02-02T06:20:51.745620Z",
     "iopub.status.idle": "2023-02-02T06:20:57.541472Z",
     "shell.execute_reply": "2023-02-02T06:20:57.540486Z"
    },
    "papermill": {
     "duration": 5.805326,
     "end_time": "2023-02-02T06:20:57.543990",
     "exception": false,
     "start_time": "2023-02-02T06:20:51.738664",
     "status": "completed"
    },
    "tags": []
   },
   "outputs": [
    {
     "name": "stderr",
     "output_type": "stream",
     "text": [
      "2024-08-30 21:37:56.306217: I tensorflow/core/util/port.cc:153] oneDNN custom operations are on. You may see slightly different numerical results due to floating-point round-off errors from different computation orders. To turn them off, set the environment variable `TF_ENABLE_ONEDNN_OPTS=0`.\n",
      "2024-08-30 21:37:56.508735: E external/local_xla/xla/stream_executor/cuda/cuda_fft.cc:485] Unable to register cuFFT factory: Attempting to register factory for plugin cuFFT when one has already been registered\n",
      "2024-08-30 21:37:56.602901: E external/local_xla/xla/stream_executor/cuda/cuda_dnn.cc:8454] Unable to register cuDNN factory: Attempting to register factory for plugin cuDNN when one has already been registered\n",
      "2024-08-30 21:37:56.631669: E external/local_xla/xla/stream_executor/cuda/cuda_blas.cc:1452] Unable to register cuBLAS factory: Attempting to register factory for plugin cuBLAS when one has already been registered\n",
      "2024-08-30 21:37:56.798343: I tensorflow/core/platform/cpu_feature_guard.cc:210] This TensorFlow binary is optimized to use available CPU instructions in performance-critical operations.\n",
      "To enable the following instructions: AVX2 AVX512F AVX512_VNNI FMA, in other operations, rebuild TensorFlow with the appropriate compiler flags.\n",
      "2024-08-30 21:37:57.647529: W tensorflow/compiler/tf2tensorrt/utils/py_utils.cc:38] TF-TRT Warning: Could not find TensorRT\n"
     ]
    }
   ],
   "source": [
    "import pandas as pd\n",
    "import numpy as np\n",
    "import matplotlib.pyplot as plt\n",
    "%matplotlib inline\n",
    "\n",
    "import tensorflow as tf\n",
    "from tensorflow.keras.datasets import cifar10\n",
    "from tensorflow.keras.utils import to_categorical\n",
    "\n",
    "from tensorflow.keras.models import Sequential\n",
    "from tensorflow.keras.layers import Dense, Conv2D, MaxPool2D, Flatten, Dropout, BatchNormalization\n",
    "from tensorflow.keras.callbacks import EarlyStopping\n",
    "from tensorflow.keras.preprocessing.image import ImageDataGenerator\n",
    "\n",
    "from sklearn.metrics import ConfusionMatrixDisplay\n",
    "from sklearn.metrics import classification_report, confusion_matrix"
   ]
  },
  {
   "cell_type": "markdown",
   "id": "a8830a1a",
   "metadata": {
    "papermill": {
     "duration": 0.005275,
     "end_time": "2023-02-02T06:20:57.554950",
     "exception": false,
     "start_time": "2023-02-02T06:20:57.549675",
     "status": "completed"
    },
    "tags": []
   },
   "source": [
    "# Loading the data"
   ]
  },
  {
   "cell_type": "code",
   "execution_count": null,
   "id": "9770a3c8",
   "metadata": {
    "execution": {
     "iopub.execute_input": "2023-02-02T06:20:57.567765Z",
     "iopub.status.busy": "2023-02-02T06:20:57.566617Z",
     "iopub.status.idle": "2023-02-02T06:21:06.920381Z",
     "shell.execute_reply": "2023-02-02T06:21:06.918687Z"
    },
    "papermill": {
     "duration": 9.363003,
     "end_time": "2023-02-02T06:21:06.923256",
     "exception": false,
     "start_time": "2023-02-02T06:20:57.560253",
     "status": "completed"
    },
    "tags": []
   },
   "outputs": [
    {
     "name": "stdout",
     "output_type": "stream",
     "text": [
      "Downloading data from https://www.cs.toronto.edu/~kriz/cifar-10-python.tar.gz\n",
      "\u001b[1m113573888/170498071\u001b[0m \u001b[32m━━━━━━━━━━━━━\u001b[0m\u001b[37m━━━━━━━\u001b[0m \u001b[1m28:07\u001b[0m 30us/step"
     ]
    }
   ],
   "source": [
    "(X_train, y_train), (X_test, y_test) = cifar10.load_data()\n",
    "\n",
    "print(f\"X_train shape: {X_train.shape}\")\n",
    "print(f\"y_train shape: {y_train.shape}\")\n",
    "print(f\"X_test shape: {X_test.shape}\")\n",
    "print(f\"y_test shape: {y_test.shape}\")"
   ]
  },
  {
   "cell_type": "markdown",
   "id": "b0cd90b3",
   "metadata": {
    "papermill": {
     "duration": 0.008633,
     "end_time": "2023-02-02T06:21:06.941579",
     "exception": false,
     "start_time": "2023-02-02T06:21:06.932946",
     "status": "completed"
    },
    "tags": []
   },
   "source": [
    "# Data Visualization"
   ]
  },
  {
   "cell_type": "code",
   "execution_count": null,
   "id": "205caec7",
   "metadata": {
    "execution": {
     "iopub.execute_input": "2023-02-02T06:21:06.961594Z",
     "iopub.status.busy": "2023-02-02T06:21:06.961291Z",
     "iopub.status.idle": "2023-02-02T06:21:10.211898Z",
     "shell.execute_reply": "2023-02-02T06:21:10.210906Z"
    },
    "papermill": {
     "duration": 3.27467,
     "end_time": "2023-02-02T06:21:10.225196",
     "exception": false,
     "start_time": "2023-02-02T06:21:06.950526",
     "status": "completed"
    },
    "tags": []
   },
   "outputs": [],
   "source": [
    "# Define the labels of the dataset\n",
    "labels = ['airplane', 'automobile', 'bird', 'cat', 'deer', \n",
    "          'dog', 'frog', 'horse', 'ship', 'truck']\n",
    "\n",
    "# Let's view more images in a grid format\n",
    "# Define the dimensions of the plot grid \n",
    "W_grid = 10\n",
    "L_grid = 10\n",
    "\n",
    "# fig, axes = plt.subplots(L_grid, W_grid)\n",
    "# subplot return the figure object and axes object\n",
    "# we can use the axes object to plot specific figures at various locations\n",
    "\n",
    "fig, axes = plt.subplots(L_grid, W_grid, figsize = (17,17))\n",
    "\n",
    "axes = axes.ravel() # flaten the 15 x 15 matrix into 225 array\n",
    "\n",
    "n_train = len(X_train) # get the length of the train dataset\n",
    "\n",
    "# Select a random number from 0 to n_train\n",
    "for i in np.arange(0, W_grid * L_grid): # create evenly spaces variables \n",
    "\n",
    "    # Select a random number\n",
    "    index = np.random.randint(0, n_train)\n",
    "    # read and display an image with the selected index    \n",
    "    axes[i].imshow(X_train[index,1:])\n",
    "    label_index = int(y_train[index])\n",
    "    axes[i].set_title(labels[label_index], fontsize = 8)\n",
    "    axes[i].axis('off')\n",
    "\n",
    "plt.subplots_adjust(hspace=0.4)"
   ]
  },
  {
   "cell_type": "code",
   "execution_count": null,
   "id": "9b37bfe6",
   "metadata": {
    "execution": {
     "iopub.execute_input": "2023-02-02T06:21:10.277151Z",
     "iopub.status.busy": "2023-02-02T06:21:10.276795Z",
     "iopub.status.idle": "2023-02-02T06:21:10.480851Z",
     "shell.execute_reply": "2023-02-02T06:21:10.479849Z"
    },
    "papermill": {
     "duration": 0.232398,
     "end_time": "2023-02-02T06:21:10.482981",
     "exception": false,
     "start_time": "2023-02-02T06:21:10.250583",
     "status": "completed"
    },
    "tags": []
   },
   "outputs": [],
   "source": [
    "classes_name = ['Airplane', 'Automobile', 'Bird', 'Cat', 'Deer', 'Dog', 'Frog', 'Horse', 'Ship', 'Truck']\n",
    "\n",
    "classes, counts = np.unique(y_train, return_counts=True)\n",
    "plt.barh(classes_name, counts)\n",
    "plt.title('Class distribution in training set')"
   ]
  },
  {
   "cell_type": "code",
   "execution_count": null,
   "id": "554a8a17",
   "metadata": {
    "execution": {
     "iopub.execute_input": "2023-02-02T06:21:10.535736Z",
     "iopub.status.busy": "2023-02-02T06:21:10.535438Z",
     "iopub.status.idle": "2023-02-02T06:21:10.731012Z",
     "shell.execute_reply": "2023-02-02T06:21:10.730168Z"
    },
    "papermill": {
     "duration": 0.223696,
     "end_time": "2023-02-02T06:21:10.732997",
     "exception": false,
     "start_time": "2023-02-02T06:21:10.509301",
     "status": "completed"
    },
    "tags": []
   },
   "outputs": [],
   "source": [
    "classes, counts = np.unique(y_test, return_counts=True)\n",
    "plt.barh(classes_name, counts)\n",
    "plt.title('Class distribution in testing set')"
   ]
  },
  {
   "cell_type": "markdown",
   "id": "2c56c6f9",
   "metadata": {
    "papermill": {
     "duration": 0.027114,
     "end_time": "2023-02-02T06:21:10.786695",
     "exception": false,
     "start_time": "2023-02-02T06:21:10.759581",
     "status": "completed"
    },
    "tags": []
   },
   "source": [
    "The class are equally distributed"
   ]
  },
  {
   "cell_type": "markdown",
   "id": "372611d3",
   "metadata": {
    "papermill": {
     "duration": 0.025772,
     "end_time": "2023-02-02T06:21:10.845051",
     "exception": false,
     "start_time": "2023-02-02T06:21:10.819279",
     "status": "completed"
    },
    "tags": []
   },
   "source": [
    "# Data Preprocessing"
   ]
  },
  {
   "cell_type": "code",
   "execution_count": null,
   "id": "3a4fb0d3",
   "metadata": {
    "execution": {
     "iopub.execute_input": "2023-02-02T06:21:10.897701Z",
     "iopub.status.busy": "2023-02-02T06:21:10.897341Z",
     "iopub.status.idle": "2023-02-02T06:21:11.354196Z",
     "shell.execute_reply": "2023-02-02T06:21:11.353188Z"
    },
    "papermill": {
     "duration": 0.485873,
     "end_time": "2023-02-02T06:21:11.356641",
     "exception": false,
     "start_time": "2023-02-02T06:21:10.870768",
     "status": "completed"
    },
    "tags": []
   },
   "outputs": [],
   "source": [
    "# Scale the data\n",
    "X_train = X_train / 255.0\n",
    "X_test = X_test / 255.0\n",
    "\n",
    "# Transform target variable into one-hotencoding\n",
    "y_cat_train = to_categorical(y_train, 10)\n",
    "y_cat_test = to_categorical(y_test, 10)"
   ]
  },
  {
   "cell_type": "code",
   "execution_count": null,
   "id": "d12efd4d",
   "metadata": {
    "execution": {
     "iopub.execute_input": "2023-02-02T06:21:11.411010Z",
     "iopub.status.busy": "2023-02-02T06:21:11.410618Z",
     "iopub.status.idle": "2023-02-02T06:21:11.419664Z",
     "shell.execute_reply": "2023-02-02T06:21:11.418792Z"
    },
    "papermill": {
     "duration": 0.037737,
     "end_time": "2023-02-02T06:21:11.421850",
     "exception": false,
     "start_time": "2023-02-02T06:21:11.384113",
     "status": "completed"
    },
    "tags": []
   },
   "outputs": [],
   "source": [
    "y_cat_train"
   ]
  },
  {
   "cell_type": "markdown",
   "id": "82909ef3",
   "metadata": {
    "papermill": {
     "duration": 0.025297,
     "end_time": "2023-02-02T06:21:11.473049",
     "exception": false,
     "start_time": "2023-02-02T06:21:11.447752",
     "status": "completed"
    },
    "tags": []
   },
   "source": [
    "# Model Building"
   ]
  },
  {
   "cell_type": "code",
   "execution_count": null,
   "id": "55178b34",
   "metadata": {
    "execution": {
     "iopub.execute_input": "2023-02-02T06:21:11.525235Z",
     "iopub.status.busy": "2023-02-02T06:21:11.524931Z",
     "iopub.status.idle": "2023-02-02T06:21:14.546034Z",
     "shell.execute_reply": "2023-02-02T06:21:14.545111Z"
    },
    "papermill": {
     "duration": 3.049893,
     "end_time": "2023-02-02T06:21:14.548533",
     "exception": false,
     "start_time": "2023-02-02T06:21:11.498640",
     "status": "completed"
    },
    "tags": []
   },
   "outputs": [],
   "source": [
    "INPUT_SHAPE = (32, 32, 3)\n",
    "KERNEL_SIZE = (3, 3)\n",
    "model = Sequential()\n",
    "\n",
    "# Convolutional Layer\n",
    "model.add(Conv2D(filters=32, kernel_size=KERNEL_SIZE, input_shape=INPUT_SHAPE, activation='relu', padding='same'))\n",
    "model.add(BatchNormalization())\n",
    "model.add(Conv2D(filters=32, kernel_size=KERNEL_SIZE, input_shape=INPUT_SHAPE, activation='relu', padding='same'))\n",
    "model.add(BatchNormalization())\n",
    "# Pooling layer\n",
    "model.add(MaxPool2D(pool_size=(2, 2)))\n",
    "# Dropout layers\n",
    "model.add(Dropout(0.25))\n",
    "\n",
    "model.add(Conv2D(filters=64, kernel_size=KERNEL_SIZE, input_shape=INPUT_SHAPE, activation='relu', padding='same'))\n",
    "model.add(BatchNormalization())\n",
    "model.add(Conv2D(filters=64, kernel_size=KERNEL_SIZE, input_shape=INPUT_SHAPE, activation='relu', padding='same'))\n",
    "model.add(BatchNormalization())\n",
    "model.add(MaxPool2D(pool_size=(2, 2)))\n",
    "model.add(Dropout(0.25))\n",
    "\n",
    "model.add(Conv2D(filters=128, kernel_size=KERNEL_SIZE, input_shape=INPUT_SHAPE, activation='relu', padding='same'))\n",
    "model.add(BatchNormalization())\n",
    "model.add(Conv2D(filters=128, kernel_size=KERNEL_SIZE, input_shape=INPUT_SHAPE, activation='relu', padding='same'))\n",
    "model.add(BatchNormalization())\n",
    "model.add(MaxPool2D(pool_size=(2, 2)))\n",
    "model.add(Dropout(0.25))\n",
    "\n",
    "model.add(Flatten())\n",
    "# model.add(Dropout(0.2))\n",
    "model.add(Dense(128, activation='relu'))\n",
    "model.add(Dropout(0.25))\n",
    "model.add(Dense(10, activation='softmax'))\n",
    "\n",
    "METRICS = [\n",
    "    'accuracy',\n",
    "    tf.keras.metrics.Precision(name='precision'),\n",
    "    tf.keras.metrics.Recall(name='recall')\n",
    "]\n",
    "model.compile(loss='categorical_crossentropy', optimizer='adam', metrics=METRICS)"
   ]
  },
  {
   "cell_type": "code",
   "execution_count": null,
   "id": "bf1d6841",
   "metadata": {
    "execution": {
     "iopub.execute_input": "2023-02-02T06:21:14.603206Z",
     "iopub.status.busy": "2023-02-02T06:21:14.602852Z",
     "iopub.status.idle": "2023-02-02T06:21:14.610800Z",
     "shell.execute_reply": "2023-02-02T06:21:14.609863Z"
    },
    "papermill": {
     "duration": 0.038765,
     "end_time": "2023-02-02T06:21:14.614362",
     "exception": false,
     "start_time": "2023-02-02T06:21:14.575597",
     "status": "completed"
    },
    "tags": []
   },
   "outputs": [],
   "source": [
    "model.summary()"
   ]
  },
  {
   "cell_type": "code",
   "execution_count": null,
   "id": "f6240045",
   "metadata": {
    "execution": {
     "iopub.execute_input": "2023-02-02T06:21:14.719123Z",
     "iopub.status.busy": "2023-02-02T06:21:14.718776Z",
     "iopub.status.idle": "2023-02-02T06:21:14.723412Z",
     "shell.execute_reply": "2023-02-02T06:21:14.722334Z"
    },
    "papermill": {
     "duration": 0.033503,
     "end_time": "2023-02-02T06:21:14.725661",
     "exception": false,
     "start_time": "2023-02-02T06:21:14.692158",
     "status": "completed"
    },
    "tags": []
   },
   "outputs": [],
   "source": [
    "early_stop = EarlyStopping(monitor='val_loss', patience=2)"
   ]
  },
  {
   "cell_type": "markdown",
   "id": "aced7bde",
   "metadata": {
    "papermill": {
     "duration": 0.025728,
     "end_time": "2023-02-02T06:21:14.777228",
     "exception": false,
     "start_time": "2023-02-02T06:21:14.751500",
     "status": "completed"
    },
    "tags": []
   },
   "source": [
    "## Data Augmentation"
   ]
  },
  {
   "cell_type": "code",
   "execution_count": null,
   "id": "39bd1e7f",
   "metadata": {
    "execution": {
     "iopub.execute_input": "2023-02-02T06:21:14.830678Z",
     "iopub.status.busy": "2023-02-02T06:21:14.829740Z",
     "iopub.status.idle": "2023-02-02T06:51:47.335745Z",
     "shell.execute_reply": "2023-02-02T06:51:47.334773Z"
    },
    "papermill": {
     "duration": 1832.535051,
     "end_time": "2023-02-02T06:51:47.337932",
     "exception": false,
     "start_time": "2023-02-02T06:21:14.802881",
     "status": "completed"
    },
    "tags": []
   },
   "outputs": [],
   "source": [
    "batch_size = 32\n",
    "data_generator = ImageDataGenerator(width_shift_range=0.1, height_shift_range=0.1, horizontal_flip=True)\n",
    "train_generator = data_generator.flow(X_train, y_cat_train, batch_size)\n",
    "steps_per_epoch = X_train.shape[0] // batch_size\n",
    "\n",
    "r = model.fit(train_generator, \n",
    "              epochs=50,\n",
    "              steps_per_epoch=steps_per_epoch,\n",
    "              validation_data=(X_test, y_cat_test), \n",
    "#               callbacks=[early_stop],\n",
    "#               batch_size=batch_size,\n",
    "             )"
   ]
  },
  {
   "cell_type": "markdown",
   "id": "0602a6e4",
   "metadata": {
    "papermill": {
     "duration": 1.436702,
     "end_time": "2023-02-02T06:51:50.218451",
     "exception": false,
     "start_time": "2023-02-02T06:51:48.781749",
     "status": "completed"
    },
    "tags": []
   },
   "source": [
    "# Model Evaluation"
   ]
  },
  {
   "cell_type": "code",
   "execution_count": null,
   "id": "7d122ee3",
   "metadata": {
    "execution": {
     "iopub.execute_input": "2023-02-02T06:51:53.546854Z",
     "iopub.status.busy": "2023-02-02T06:51:53.546471Z",
     "iopub.status.idle": "2023-02-02T06:51:54.245850Z",
     "shell.execute_reply": "2023-02-02T06:51:54.244970Z"
    },
    "papermill": {
     "duration": 2.195011,
     "end_time": "2023-02-02T06:51:54.248579",
     "exception": false,
     "start_time": "2023-02-02T06:51:52.053568",
     "status": "completed"
    },
    "tags": []
   },
   "outputs": [],
   "source": [
    "plt.figure(figsize=(12, 16))\n",
    "\n",
    "plt.subplot(4, 2, 1)\n",
    "plt.plot(r.history['loss'], label='Loss')\n",
    "plt.plot(r.history['val_loss'], label='val_Loss')\n",
    "plt.title('Loss Function Evolution')\n",
    "plt.legend()\n",
    "\n",
    "plt.subplot(4, 2, 2)\n",
    "plt.plot(r.history['accuracy'], label='accuracy')\n",
    "plt.plot(r.history['val_accuracy'], label='val_accuracy')\n",
    "plt.title('Accuracy Function Evolution')\n",
    "plt.legend()\n",
    "\n",
    "plt.subplot(4, 2, 3)\n",
    "plt.plot(r.history['precision'], label='precision')\n",
    "plt.plot(r.history['val_precision'], label='val_precision')\n",
    "plt.title('Precision Function Evolution')\n",
    "plt.legend()\n",
    "\n",
    "plt.subplot(4, 2, 4)\n",
    "plt.plot(r.history['recall'], label='recall')\n",
    "plt.plot(r.history['val_recall'], label='val_recall')\n",
    "plt.title('Recall Function Evolution')\n",
    "plt.legend()"
   ]
  },
  {
   "cell_type": "code",
   "execution_count": null,
   "id": "35c2b0f4",
   "metadata": {
    "execution": {
     "iopub.execute_input": "2023-02-02T06:51:57.216801Z",
     "iopub.status.busy": "2023-02-02T06:51:57.216444Z",
     "iopub.status.idle": "2023-02-02T06:52:00.443631Z",
     "shell.execute_reply": "2023-02-02T06:52:00.442670Z"
    },
    "papermill": {
     "duration": 4.685618,
     "end_time": "2023-02-02T06:52:00.445759",
     "exception": false,
     "start_time": "2023-02-02T06:51:55.760141",
     "status": "completed"
    },
    "tags": []
   },
   "outputs": [],
   "source": [
    "evaluation = model.evaluate(X_test, y_cat_test)\n",
    "print(f'Test Accuracy : {evaluation[1] * 100:.2f}%')\n",
    "\n",
    "y_pred = model.predict(X_test)\n",
    "y_pred = np.argmax(y_pred, axis=1)\n",
    "cm = confusion_matrix(y_test, y_pred)\n",
    "\n",
    "\n",
    "disp = ConfusionMatrixDisplay(confusion_matrix=cm,\n",
    "                              display_labels=labels)\n",
    "\n",
    "\n",
    "# NOTE: Fill all variables here with default values of the plot_confusion_matrix\n",
    "fig, ax = plt.subplots(figsize=(10, 10))\n",
    "disp = disp.plot(xticks_rotation='vertical', ax=ax,cmap='summer')\n",
    "\n",
    "plt.show()"
   ]
  },
  {
   "cell_type": "code",
   "execution_count": null,
   "id": "fa78d0fa",
   "metadata": {
    "execution": {
     "iopub.execute_input": "2023-02-02T06:52:03.316268Z",
     "iopub.status.busy": "2023-02-02T06:52:03.315914Z",
     "iopub.status.idle": "2023-02-02T06:52:03.342996Z",
     "shell.execute_reply": "2023-02-02T06:52:03.341883Z"
    },
    "papermill": {
     "duration": 1.469769,
     "end_time": "2023-02-02T06:52:03.345477",
     "exception": false,
     "start_time": "2023-02-02T06:52:01.875708",
     "status": "completed"
    },
    "tags": []
   },
   "outputs": [],
   "source": [
    "print(classification_report(y_test, y_pred))"
   ]
  },
  {
   "cell_type": "markdown",
   "id": "2a2a7893",
   "metadata": {
    "papermill": {
     "duration": 1.655662,
     "end_time": "2023-02-02T06:52:06.424089",
     "exception": false,
     "start_time": "2023-02-02T06:52:04.768427",
     "status": "completed"
    },
    "tags": []
   },
   "source": [
    "## Testing the image"
   ]
  },
  {
   "cell_type": "code",
   "execution_count": null,
   "id": "c04bb82d",
   "metadata": {
    "execution": {
     "iopub.execute_input": "2023-02-02T06:52:09.316180Z",
     "iopub.status.busy": "2023-02-02T06:52:09.315802Z",
     "iopub.status.idle": "2023-02-02T06:52:09.583874Z",
     "shell.execute_reply": "2023-02-02T06:52:09.582971Z"
    },
    "papermill": {
     "duration": 1.740604,
     "end_time": "2023-02-02T06:52:09.585842",
     "exception": false,
     "start_time": "2023-02-02T06:52:07.845238",
     "status": "completed"
    },
    "tags": []
   },
   "outputs": [],
   "source": [
    "my_image = X_test[100]\n",
    "plt.imshow(my_image)\n",
    "\n",
    "# that's a Deer\n",
    "print(f\" Image 100 is {y_test[100]}\")\n",
    "\n",
    "# correctly predicted as a Deer\n",
    "pred_100 = np.argmax(model.predict(my_image.reshape(1, 32, 32, 3)))\n",
    "print(f\"The model predict that image 100 is {pred_100}\")"
   ]
  },
  {
   "cell_type": "code",
   "execution_count": null,
   "id": "690138d4",
   "metadata": {
    "execution": {
     "iopub.execute_input": "2023-02-02T06:52:12.364301Z",
     "iopub.status.busy": "2023-02-02T06:52:12.363939Z",
     "iopub.status.idle": "2023-02-02T06:52:13.581959Z",
     "shell.execute_reply": "2023-02-02T06:52:13.581049Z"
    },
    "papermill": {
     "duration": 2.629718,
     "end_time": "2023-02-02T06:52:13.584972",
     "exception": false,
     "start_time": "2023-02-02T06:52:10.955254",
     "status": "completed"
    },
    "tags": []
   },
   "outputs": [],
   "source": [
    "# Define the labels of the dataset\n",
    "labels = ['airplane', 'automobile', 'bird', 'cat', 'deer', \n",
    "          'dog', 'frog', 'horse', 'ship', 'truck']\n",
    "\n",
    "# Let's view more images in a grid format\n",
    "# Define the dimensions of the plot grid \n",
    "W_grid = 5\n",
    "L_grid = 5\n",
    "\n",
    "# fig, axes = plt.subplots(L_grid, W_grid)\n",
    "# subplot return the figure object and axes object\n",
    "# we can use the axes object to plot specific figures at various locations\n",
    "\n",
    "fig, axes = plt.subplots(L_grid, W_grid, figsize = (17,17))\n",
    "\n",
    "axes = axes.ravel() # flaten the 15 x 15 matrix into 225 array\n",
    "\n",
    "n_test = len(X_test) # get the length of the train dataset\n",
    "\n",
    "# Select a random number from 0 to n_train\n",
    "for i in np.arange(0, W_grid * L_grid): # create evenly spaces variables \n",
    "\n",
    "    # Select a random number\n",
    "    index = np.random.randint(0, n_test)\n",
    "    # read and display an image with the selected index    \n",
    "    axes[i].imshow(X_test[index,1:])\n",
    "    label_index = int(y_pred[index])\n",
    "    axes[i].set_title(labels[label_index], fontsize = 8)\n",
    "    axes[i].axis('off')\n",
    "\n",
    "plt.subplots_adjust(hspace=0.4)"
   ]
  },
  {
   "cell_type": "code",
   "execution_count": null,
   "id": "88917b2f",
   "metadata": {
    "execution": {
     "iopub.execute_input": "2023-02-02T06:52:16.704546Z",
     "iopub.status.busy": "2023-02-02T06:52:16.703664Z",
     "iopub.status.idle": "2023-02-02T06:52:16.711984Z",
     "shell.execute_reply": "2023-02-02T06:52:16.710987Z"
    },
    "papermill": {
     "duration": 1.716822,
     "end_time": "2023-02-02T06:52:16.713780",
     "exception": false,
     "start_time": "2023-02-02T06:52:14.996958",
     "status": "completed"
    },
    "tags": []
   },
   "outputs": [],
   "source": [
    "def plot_image(i, predictions_array, true_label, img):\n",
    "    predictions_array, true_label, img = predictions_array, true_label[i], img[i]\n",
    "    plt.grid(False)\n",
    "    plt.xticks([])\n",
    "    plt.yticks([])\n",
    "\n",
    "    plt.imshow(img, cmap=plt.cm.binary)\n",
    "\n",
    "    predicted_label = np.argmax(predictions_array)\n",
    "    if predicted_label == true_label:\n",
    "        color = 'blue'\n",
    "    else:\n",
    "        color = 'red'\n",
    "\n",
    "    plt.xlabel(f\"{labels[int(predicted_label)]} {100*np.max(predictions_array):2.0f}% ({labels[int(true_label)]})\", \n",
    "               color=color)\n",
    "\n",
    "def plot_value_array(i, predictions_array, true_label):\n",
    "    predictions_array, true_label = predictions_array, int(true_label[i])\n",
    "    plt.grid(False)\n",
    "    plt.xticks(range(10))\n",
    "    plt.yticks([])\n",
    "    thisplot = plt.bar(range(10), predictions_array, color=\"#777777\")\n",
    "    plt.ylim([0, 1])\n",
    "    predicted_label = np.argmax(predictions_array)\n",
    "\n",
    "    thisplot[predicted_label].set_color('red')\n",
    "    thisplot[true_label].set_color('blue')"
   ]
  },
  {
   "cell_type": "code",
   "execution_count": null,
   "id": "778d11c1",
   "metadata": {
    "execution": {
     "iopub.execute_input": "2023-02-02T06:52:19.475079Z",
     "iopub.status.busy": "2023-02-02T06:52:19.474695Z",
     "iopub.status.idle": "2023-02-02T06:52:25.613738Z",
     "shell.execute_reply": "2023-02-02T06:52:25.612782Z"
    },
    "papermill": {
     "duration": 7.54594,
     "end_time": "2023-02-02T06:52:25.618143",
     "exception": false,
     "start_time": "2023-02-02T06:52:18.072203",
     "status": "completed"
    },
    "tags": []
   },
   "outputs": [],
   "source": [
    "predictions = model.predict(X_test)\n",
    "\n",
    "# Plot the first X test images, their predicted labels, and the true labels.\n",
    "# Color correct predictions in blue and incorrect predictions in red.\n",
    "num_rows = 8\n",
    "num_cols = 5\n",
    "num_images = num_rows * num_cols\n",
    "plt.figure(figsize=(2 * 2 * num_cols, 2 * num_rows))\n",
    "for i in range(num_images):\n",
    "    plt.subplot(num_rows, 2 * num_cols, 2 * i + 1)\n",
    "    plot_image(i, predictions[i], y_test, X_test)\n",
    "    plt.subplot(num_rows, 2*num_cols, 2*i+2)\n",
    "    plot_value_array(i, predictions[i], y_test)\n",
    "plt.tight_layout()\n",
    "plt.show()"
   ]
  },
  {
   "cell_type": "markdown",
   "id": "3c23b6e6",
   "metadata": {
    "papermill": {
     "duration": 1.553568,
     "end_time": "2023-02-02T06:52:28.718180",
     "exception": false,
     "start_time": "2023-02-02T06:52:27.164612",
     "status": "completed"
    },
    "tags": []
   },
   "source": [
    "# DenseNet model for image classification"
   ]
  },
  {
   "cell_type": "code",
   "execution_count": null,
   "id": "51c5b562",
   "metadata": {
    "_kg_hide-output": true,
    "execution": {
     "iopub.execute_input": "2023-02-02T06:52:31.491247Z",
     "iopub.status.busy": "2023-02-02T06:52:31.490674Z",
     "iopub.status.idle": "2023-02-02T10:39:35.780859Z",
     "shell.execute_reply": "2023-02-02T10:39:35.779855Z"
    },
    "papermill": {
     "duration": 13625.706663,
     "end_time": "2023-02-02T10:39:35.783407",
     "exception": false,
     "start_time": "2023-02-02T06:52:30.076744",
     "status": "completed"
    },
    "tags": []
   },
   "outputs": [],
   "source": [
    "from keras.applications.densenet import DenseNet121\n",
    "from keras.layers import Dense\n",
    "from keras.models import Sequential\n",
    "\n",
    "model = Sequential()\n",
    "base_model = DenseNet121(input_shape=(32, 32, 3), include_top=False, weights='imagenet', pooling='avg')\n",
    "model.add(base_model)\n",
    "model.add(Dense(10, activation='softmax'))\n",
    "model.compile(loss='categorical_crossentropy', optimizer='adam', metrics=['accuracy'])\n",
    "\n",
    "r = model.fit(train_generator, \n",
    "              epochs=100,\n",
    "              steps_per_epoch=steps_per_epoch,\n",
    "              validation_data=(X_test, y_cat_test), \n",
    "#               callbacks=[early_stop],\n",
    "             )"
   ]
  },
  {
   "cell_type": "markdown",
   "id": "72c5f180",
   "metadata": {
    "papermill": {
     "duration": 10.936246,
     "end_time": "2023-02-02T10:39:57.286654",
     "exception": false,
     "start_time": "2023-02-02T10:39:46.350408",
     "status": "completed"
    },
    "tags": []
   },
   "source": [
    "# Saving the models"
   ]
  },
  {
   "cell_type": "code",
   "execution_count": null,
   "id": "c837c675",
   "metadata": {
    "execution": {
     "iopub.execute_input": "2023-02-02T10:40:18.366254Z",
     "iopub.status.busy": "2023-02-02T10:40:18.365884Z",
     "iopub.status.idle": "2023-02-02T10:40:19.407800Z",
     "shell.execute_reply": "2023-02-02T10:40:19.406837Z"
    },
    "papermill": {
     "duration": 11.571168,
     "end_time": "2023-02-02T10:40:19.410433",
     "exception": false,
     "start_time": "2023-02-02T10:40:07.839265",
     "status": "completed"
    },
    "tags": []
   },
   "outputs": [],
   "source": [
    "from tensorflow.keras.models import load_model\n",
    "\n",
    "model.save('cnn_20_epochs.h5')"
   ]
  }
 ],
 "metadata": {
  "kernelspec": {
   "display_name": "Python 3 (ipykernel)",
   "language": "python",
   "name": "python3"
  },
  "language_info": {
   "codemirror_mode": {
    "name": "ipython",
    "version": 3
   },
   "file_extension": ".py",
   "mimetype": "text/x-python",
   "name": "python",
   "nbconvert_exporter": "python",
   "pygments_lexer": "ipython3",
   "version": "3.10.9"
  },
  "papermill": {
   "default_parameters": {},
   "duration": 15589.024023,
   "end_time": "2023-02-02T10:40:33.304269",
   "environment_variables": {},
   "exception": null,
   "input_path": "__notebook__.ipynb",
   "output_path": "__notebook__.ipynb",
   "parameters": {},
   "start_time": "2023-02-02T06:20:44.280246",
   "version": "2.3.4"
  }
 },
 "nbformat": 4,
 "nbformat_minor": 5
}
